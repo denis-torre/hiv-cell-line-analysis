{
 "cells": [
  {
   "cell_type": "code",
   "execution_count": null,
   "metadata": {
    "collapsed": false
   },
   "outputs": [],
   "source": [
    "# Prepare\n",
    "import pandas as pd\n",
    "import os, requests, matplotlib_venn, json\n",
    "from matplotlib import pyplot as plt\n",
    "os.chdir('/Users/denis/Documents/Projects/hiv-analysis/hiv-signature-analysis')\n",
    "%load_ext rpy2.ipython\n",
    "%R source('/Users/denis/Documents/Projects/scripts/Support.R')\n",
    "%R library(ggplot2)"
   ]
  },
  {
   "cell_type": "markdown",
   "metadata": {},
   "source": [
    "# Differential Expression Analysis"
   ]
  },
  {
   "cell_type": "markdown",
   "metadata": {},
   "source": [
    "## Overview"
   ]
  },
  {
   "cell_type": "markdown",
   "metadata": {},
   "source": [
    "The purpose of this notebook is to investigate the differential expression results of cell-line derived HIV-infected data, and the effect of the batch effect removal algorithm on these genes."
   ]
  },
  {
   "cell_type": "markdown",
   "metadata": {},
   "source": [
    "## Computation"
   ]
  },
  {
   "cell_type": "code",
   "execution_count": null,
   "metadata": {
    "collapsed": false
   },
   "outputs": [],
   "source": [
    "# Get infiles\n",
    "infiles = ['f4-differential_expression.dir/podocyte_cell_line-vst-differential_expression.txt', 'f4-differential_expression.dir/podocyte_cell_line-vst_corrected-differential_expression.txt']\n",
    "\n",
    "# Read data\n",
    "cdDataframe = pd.read_table(infiles[0]).rename(columns={'CD':'CD_uncorrected'})\n",
    "correctedCdDataframe = pd.read_table(infiles[1]).rename(columns={'CD':'CD_corrected'})\n",
    "\n",
    "# Merge dataframes\n",
    "mergedCdDataframe = cdDataframe.merge(correctedCdDataframe, on='gene_symbol', how='inner').set_index('gene_symbol')\n",
    "mergedCdDataframe.head()"
   ]
  },
  {
   "cell_type": "code",
   "execution_count": null,
   "metadata": {
    "collapsed": false
   },
   "outputs": [],
   "source": [
    "# Get number of genes\n",
    "nGenes = 500\n",
    "\n",
    "# Get top genes\n",
    "upregulatedGenes = {x:set(mergedCdDataframe[x].sort_values(ascending=False).index[:nGenes]) for x in mergedCdDataframe.columns}\n",
    "downregulatedGenes = {x:set(mergedCdDataframe[x].sort_values(ascending=True).index[:nGenes]) for x in mergedCdDataframe.columns}\n",
    "combinedGenes = {x:set(abs(mergedCdDataframe[x]).sort_values(ascending=False).index[:nGenes]) for x in mergedCdDataframe.columns}   "
   ]
  },
  {
   "cell_type": "markdown",
   "metadata": {},
   "source": [
    "## Plots"
   ]
  },
  {
   "cell_type": "markdown",
   "metadata": {},
   "source": [
    "### Scatter Plot"
   ]
  },
  {
   "cell_type": "code",
   "execution_count": null,
   "metadata": {
    "collapsed": false
   },
   "outputs": [],
   "source": [
    "%%R -i mergedCdDataframe\n",
    "plot(mergedCdDataframe[,2:3],\n",
    "     xlab = 'Original',\n",
    "     ylab = 'Corrected',\n",
    "     main = 'Comparison of Characteristic Direction Values\\nOriginal vs Corrected Data')"
   ]
  },
  {
   "cell_type": "markdown",
   "metadata": {},
   "source": [
    "### Venn Diagrams"
   ]
  },
  {
   "cell_type": "code",
   "execution_count": null,
   "metadata": {
    "collapsed": false
   },
   "outputs": [],
   "source": [
    "v = matplotlib_venn.venn2([upregulatedGenes['CD_uncorrected'], upregulatedGenes['CD_corrected']], set_labels=['Uncorrected','Corrected'])\n",
    "plt.title('Top 500 Upregulated Genes')\n",
    "plt.show()"
   ]
  },
  {
   "cell_type": "code",
   "execution_count": null,
   "metadata": {
    "collapsed": false
   },
   "outputs": [],
   "source": [
    "v = matplotlib_venn.venn2([downregulatedGenes['CD_uncorrected'], downregulatedGenes['CD_corrected']], set_labels=['Uncorrected','Corrected'])\n",
    "plt.title('Top 500 Downregulated Genes')\n",
    "plt.show()"
   ]
  },
  {
   "cell_type": "code",
   "execution_count": null,
   "metadata": {
    "collapsed": false
   },
   "outputs": [],
   "source": [
    "v = matplotlib_venn.venn2([combinedGenes['CD_uncorrected'], combinedGenes['CD_corrected']], set_labels=['Uncorrected','Corrected'])\n",
    "plt.title('Top 500 Combined Genes')\n",
    "plt.show()"
   ]
  },
  {
   "cell_type": "markdown",
   "metadata": {},
   "source": [
    "## Analyses"
   ]
  },
  {
   "cell_type": "markdown",
   "metadata": {},
   "source": [
    "### Enrichr"
   ]
  },
  {
   "cell_type": "code",
   "execution_count": null,
   "metadata": {
    "collapsed": false
   },
   "outputs": [],
   "source": [
    "# Define Enrichr API\n",
    "def enrichr_get_url(genes, meta=''):\n",
    "    \"\"\"POST a gene list to Enrichr server and return the list ids\"\"\"\n",
    "    genes_str = '\\n'.join(genes)\n",
    "    payload = {\n",
    "        'list': (None, genes_str),\n",
    "        'description': (None, meta)\n",
    "    }\n",
    "    # POST genes to the /addList endpoint\n",
    "    response = requests.post(\"%s/addList\" % 'http://amp.pharm.mssm.edu/Enrichr', files=payload)\n",
    "    list_ids = json.loads(response.text)\n",
    "\n",
    "    # Return URL\n",
    "    result_url = 'http://amp.pharm.mssm.edu/Enrichr/enrich?dataset=' + list_ids['shortId']\n",
    "    return result_url"
   ]
  },
  {
   "cell_type": "code",
   "execution_count": null,
   "metadata": {
    "collapsed": false
   },
   "outputs": [],
   "source": [
    "# Get geneset dict\n",
    "genesetDict = {'Upregulated': upregulatedGenes, 'Downregulated': downregulatedGenes, 'Combined': combinedGenes}\n",
    "\n",
    "# Get link dict\n",
    "enrichrLinkDict = {dataset:{geneset:enrichr_get_url(genesetDict[dataset][geneset]) for geneset in genesetDict[dataset].keys()} for dataset in genesetDict.keys()}"
   ]
  },
  {
   "cell_type": "code",
   "execution_count": null,
   "metadata": {
    "collapsed": false
   },
   "outputs": [],
   "source": [
    "# Create dataframe\n",
    "enrichrLinkDataframe = pd.DataFrame(enrichrLinkDict).T\n",
    "\n",
    "# Display\n",
    "pd.options.display.max_colwidth = 100\n",
    "enrichrLinkDataframe"
   ]
  },
  {
   "cell_type": "markdown",
   "metadata": {},
   "source": [
    "### L1000CDS<sup>2</sup>"
   ]
  },
  {
   "cell_type": "code",
   "execution_count": null,
   "metadata": {
    "collapsed": true
   },
   "outputs": [],
   "source": [
    "def runL1000CDS2(differentialExpressionDataframe, column):\n",
    "    # Set data\n",
    "    data = {\"genes\": differentialExpressionDataframe.index.tolist(), \"vals\":differentialExpressionDataframe[column].tolist()}\n",
    "    data['genes'] = [x.upper() for x in data['genes']]\n",
    "    \n",
    "    # Set configuration\n",
    "    config = {\"aggravate\":False, \"searchMethod\":\"CD\", \"share\":True, \"combination\":True, \"db-version\":\"latest\"}\n",
    "    payload = {\"data\":data,\"config\":config}\n",
    "    headers = {'content-type':'application/json'}\n",
    "    \n",
    "    # Perform request\n",
    "    r = requests.post('http://amp.pharm.mssm.edu/L1000CDS2/query',data=json.dumps(payload),headers=headers)\n",
    "    resCD= r.json()\n",
    "    \n",
    "    # Return result\n",
    "    resultUrl = 'http://amp.pharm.mssm.edu/L1000CDS2/#/result/' + resCD['shareId']\n",
    "    return resultUrl"
   ]
  },
  {
   "cell_type": "code",
   "execution_count": null,
   "metadata": {
    "collapsed": true
   },
   "outputs": [],
   "source": [
    "# Run analyses\n",
    "l1000cds2Dict = {x: runL1000CDS2(mergedCdDataframe, x) for x in mergedCdDataframe.columns}"
   ]
  },
  {
   "cell_type": "code",
   "execution_count": null,
   "metadata": {
    "collapsed": false
   },
   "outputs": [],
   "source": [
    "# Convert to dataframe\n",
    "l1000cds2Dataframe = pd.DataFrame.from_dict(l1000cds2Dict, orient='index').rename(columns={0:'L1000CDS2_link'})\n",
    "\n",
    "# Display\n",
    "l1000cds2Dataframe"
   ]
  },
  {
   "cell_type": "code",
   "execution_count": null,
   "metadata": {
    "collapsed": true
   },
   "outputs": [],
   "source": []
  }
 ],
 "metadata": {
  "kernelspec": {
   "display_name": "Python 2",
   "language": "python",
   "name": "python2"
  },
  "language_info": {
   "codemirror_mode": {
    "name": "ipython",
    "version": 2
   },
   "file_extension": ".py",
   "mimetype": "text/x-python",
   "name": "python",
   "nbconvert_exporter": "python",
   "pygments_lexer": "ipython2",
   "version": "2.7.10"
  }
 },
 "nbformat": 4,
 "nbformat_minor": 1
}
