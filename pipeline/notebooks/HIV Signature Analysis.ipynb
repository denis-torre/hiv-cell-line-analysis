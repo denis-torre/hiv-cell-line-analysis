{
 "cells": [
  {
   "cell_type": "markdown",
   "metadata": {},
   "source": [
    "# HIV Gene Expression Signature Analysis"
   ]
  },
  {
   "cell_type": "markdown",
   "metadata": {},
   "source": [
    "*Denis Torre*"
   ]
  },
  {
   "cell_type": "markdown",
   "metadata": {},
   "source": [
    "## 1. Preparation"
   ]
  },
  {
   "cell_type": "markdown",
   "metadata": {},
   "source": [
    "### Load Scripts"
   ]
  },
  {
   "cell_type": "code",
   "execution_count": 12,
   "metadata": {
    "collapsed": false
   },
   "outputs": [
    {
     "name": "stdout",
     "output_type": "stream",
     "text": [
      "The rpy2.ipython extension is already loaded. To reload it, use:\n",
      "  %reload_ext rpy2.ipython\n",
      "\n",
      "Error in library(DESeq2) : there is no package called ‘DESeq2’\n"
     ]
    },
    {
     "name": "stderr",
     "output_type": "stream",
     "text": [
      "/Users/denis/my-venv/lib/python2.7/site-packages/rpy2/rinterface/__init__.py:185: RRuntimeWarning: Error in library(DESeq2) : there is no package called ‘DESeq2’\n",
      "\n",
      "  warnings.warn(x, RRuntimeWarning)\n"
     ]
    }
   ],
   "source": [
    "##############################\n",
    "##### 1. Python Modules\n",
    "##############################\n",
    "import pandas as pd\n",
    "\n",
    "##############################\n",
    "##### 2. R Libraries\n",
    "##############################\n",
    "%load_ext rpy2.ipython\n",
    "%R library(DESeq2)"
   ]
  },
  {
   "cell_type": "markdown",
   "metadata": {
    "collapsed": true
   },
   "source": [
    "### Load Data"
   ]
  },
  {
   "cell_type": "markdown",
   "metadata": {},
   "source": [
    "#### Rawcount Dataframe"
   ]
  },
  {
   "cell_type": "code",
   "execution_count": 23,
   "metadata": {
    "collapsed": false
   },
   "outputs": [
    {
     "data": {
      "text/html": [
       "<div>\n",
       "<table border=\"1\" class=\"dataframe\">\n",
       "  <thead>\n",
       "    <tr style=\"text-align: right;\">\n",
       "      <th></th>\n",
       "      <th>B10C</th>\n",
       "      <th>B11C</th>\n",
       "      <th>B11G</th>\n",
       "      <th>B11N</th>\n",
       "      <th>B12G</th>\n",
       "      <th>B12N</th>\n",
       "      <th>B1C</th>\n",
       "      <th>B1G</th>\n",
       "      <th>B1N</th>\n",
       "      <th>B2C</th>\n",
       "      <th>...</th>\n",
       "      <th>h24.3</th>\n",
       "      <th>h24.4</th>\n",
       "      <th>h48.2</th>\n",
       "      <th>h48.3</th>\n",
       "      <th>h48.4</th>\n",
       "      <th>h6.2</th>\n",
       "      <th>h6.3</th>\n",
       "      <th>h6.4</th>\n",
       "      <th>NK1</th>\n",
       "      <th>NK2</th>\n",
       "    </tr>\n",
       "    <tr>\n",
       "      <th>gene_symbol</th>\n",
       "      <th></th>\n",
       "      <th></th>\n",
       "      <th></th>\n",
       "      <th></th>\n",
       "      <th></th>\n",
       "      <th></th>\n",
       "      <th></th>\n",
       "      <th></th>\n",
       "      <th></th>\n",
       "      <th></th>\n",
       "      <th></th>\n",
       "      <th></th>\n",
       "      <th></th>\n",
       "      <th></th>\n",
       "      <th></th>\n",
       "      <th></th>\n",
       "      <th></th>\n",
       "      <th></th>\n",
       "      <th></th>\n",
       "      <th></th>\n",
       "      <th></th>\n",
       "    </tr>\n",
       "  </thead>\n",
       "  <tbody>\n",
       "    <tr>\n",
       "      <th>A1BG</th>\n",
       "      <td>49.0</td>\n",
       "      <td>59.0</td>\n",
       "      <td>50.0</td>\n",
       "      <td>44.0</td>\n",
       "      <td>40.0</td>\n",
       "      <td>43.0</td>\n",
       "      <td>48.0</td>\n",
       "      <td>91.0</td>\n",
       "      <td>39.0</td>\n",
       "      <td>55.0</td>\n",
       "      <td>...</td>\n",
       "      <td>77.0</td>\n",
       "      <td>23.0</td>\n",
       "      <td>26.0</td>\n",
       "      <td>142.0</td>\n",
       "      <td>30.0</td>\n",
       "      <td>14.0</td>\n",
       "      <td>107.0</td>\n",
       "      <td>33.0</td>\n",
       "      <td>26.0</td>\n",
       "      <td>120.0</td>\n",
       "    </tr>\n",
       "    <tr>\n",
       "      <th>A1CF</th>\n",
       "      <td>43.0</td>\n",
       "      <td>40.5</td>\n",
       "      <td>57.0</td>\n",
       "      <td>45.0</td>\n",
       "      <td>76.0</td>\n",
       "      <td>47.5</td>\n",
       "      <td>52.5</td>\n",
       "      <td>27.0</td>\n",
       "      <td>59.5</td>\n",
       "      <td>41.0</td>\n",
       "      <td>...</td>\n",
       "      <td>68.0</td>\n",
       "      <td>69.0</td>\n",
       "      <td>50.5</td>\n",
       "      <td>53.5</td>\n",
       "      <td>86.0</td>\n",
       "      <td>39.0</td>\n",
       "      <td>63.0</td>\n",
       "      <td>102.5</td>\n",
       "      <td>1640.5</td>\n",
       "      <td>599.5</td>\n",
       "    </tr>\n",
       "    <tr>\n",
       "      <th>A2M</th>\n",
       "      <td>131.0</td>\n",
       "      <td>157.0</td>\n",
       "      <td>169.0</td>\n",
       "      <td>121.0</td>\n",
       "      <td>207.0</td>\n",
       "      <td>123.0</td>\n",
       "      <td>222.0</td>\n",
       "      <td>133.0</td>\n",
       "      <td>199.0</td>\n",
       "      <td>251.0</td>\n",
       "      <td>...</td>\n",
       "      <td>111.0</td>\n",
       "      <td>99.0</td>\n",
       "      <td>49.0</td>\n",
       "      <td>94.0</td>\n",
       "      <td>85.0</td>\n",
       "      <td>54.0</td>\n",
       "      <td>124.0</td>\n",
       "      <td>118.0</td>\n",
       "      <td>10396.0</td>\n",
       "      <td>24076.0</td>\n",
       "    </tr>\n",
       "    <tr>\n",
       "      <th>A2M-AS1</th>\n",
       "      <td>36.0</td>\n",
       "      <td>21.0</td>\n",
       "      <td>39.0</td>\n",
       "      <td>29.0</td>\n",
       "      <td>52.0</td>\n",
       "      <td>25.0</td>\n",
       "      <td>14.0</td>\n",
       "      <td>29.0</td>\n",
       "      <td>30.0</td>\n",
       "      <td>36.0</td>\n",
       "      <td>...</td>\n",
       "      <td>26.0</td>\n",
       "      <td>103.0</td>\n",
       "      <td>79.0</td>\n",
       "      <td>17.0</td>\n",
       "      <td>107.0</td>\n",
       "      <td>70.0</td>\n",
       "      <td>12.0</td>\n",
       "      <td>58.0</td>\n",
       "      <td>43.0</td>\n",
       "      <td>44.0</td>\n",
       "    </tr>\n",
       "    <tr>\n",
       "      <th>A2ML1</th>\n",
       "      <td>83.0</td>\n",
       "      <td>97.0</td>\n",
       "      <td>102.0</td>\n",
       "      <td>57.0</td>\n",
       "      <td>122.0</td>\n",
       "      <td>49.0</td>\n",
       "      <td>102.0</td>\n",
       "      <td>110.0</td>\n",
       "      <td>99.0</td>\n",
       "      <td>142.0</td>\n",
       "      <td>...</td>\n",
       "      <td>122.0</td>\n",
       "      <td>147.0</td>\n",
       "      <td>96.0</td>\n",
       "      <td>78.0</td>\n",
       "      <td>127.0</td>\n",
       "      <td>95.0</td>\n",
       "      <td>114.0</td>\n",
       "      <td>129.0</td>\n",
       "      <td>24.0</td>\n",
       "      <td>56.0</td>\n",
       "    </tr>\n",
       "  </tbody>\n",
       "</table>\n",
       "<p>5 rows × 34 columns</p>\n",
       "</div>"
      ],
      "text/plain": [
       "              B10C   B11C   B11G   B11N   B12G   B12N    B1C    B1G    B1N  \\\n",
       "gene_symbol                                                                  \n",
       "A1BG          49.0   59.0   50.0   44.0   40.0   43.0   48.0   91.0   39.0   \n",
       "A1CF          43.0   40.5   57.0   45.0   76.0   47.5   52.5   27.0   59.5   \n",
       "A2M          131.0  157.0  169.0  121.0  207.0  123.0  222.0  133.0  199.0   \n",
       "A2M-AS1       36.0   21.0   39.0   29.0   52.0   25.0   14.0   29.0   30.0   \n",
       "A2ML1         83.0   97.0  102.0   57.0  122.0   49.0  102.0  110.0   99.0   \n",
       "\n",
       "               B2C   ...     h24.3  h24.4  h48.2  h48.3  h48.4  h6.2   h6.3  \\\n",
       "gene_symbol          ...                                                      \n",
       "A1BG          55.0   ...      77.0   23.0   26.0  142.0   30.0  14.0  107.0   \n",
       "A1CF          41.0   ...      68.0   69.0   50.5   53.5   86.0  39.0   63.0   \n",
       "A2M          251.0   ...     111.0   99.0   49.0   94.0   85.0  54.0  124.0   \n",
       "A2M-AS1       36.0   ...      26.0  103.0   79.0   17.0  107.0  70.0   12.0   \n",
       "A2ML1        142.0   ...     122.0  147.0   96.0   78.0  127.0  95.0  114.0   \n",
       "\n",
       "              h6.4      NK1      NK2  \n",
       "gene_symbol                           \n",
       "A1BG          33.0     26.0    120.0  \n",
       "A1CF         102.5   1640.5    599.5  \n",
       "A2M          118.0  10396.0  24076.0  \n",
       "A2M-AS1       58.0     43.0     44.0  \n",
       "A2ML1        129.0     24.0     56.0  \n",
       "\n",
       "[5 rows x 34 columns]"
      ]
     },
     "execution_count": 23,
     "metadata": {},
     "output_type": "execute_result"
    }
   ],
   "source": [
    "# Get input file\n",
    "infile = '../f1-expression_data.dir/hiv-rawcounts.txt'\n",
    "\n",
    "# Read dataframe\n",
    "rawcountDataframe = pd.read_table(infile).set_index('gene_symbol').dropna()\n",
    "rawcountDataframe.head()"
   ]
  },
  {
   "cell_type": "markdown",
   "metadata": {},
   "source": [
    "#### Annotation Dataframe"
   ]
  },
  {
   "cell_type": "code",
   "execution_count": 24,
   "metadata": {
    "collapsed": false
   },
   "outputs": [
    {
     "data": {
      "text/html": [
       "<div>\n",
       "<table border=\"1\" class=\"dataframe\">\n",
       "  <thead>\n",
       "    <tr style=\"text-align: right;\">\n",
       "      <th></th>\n",
       "      <th>cell_type</th>\n",
       "      <th>treatment</th>\n",
       "      <th>timepoint</th>\n",
       "    </tr>\n",
       "    <tr>\n",
       "      <th>sample_name</th>\n",
       "      <th></th>\n",
       "      <th></th>\n",
       "      <th></th>\n",
       "    </tr>\n",
       "  </thead>\n",
       "  <tbody>\n",
       "    <tr>\n",
       "      <th>B10C</th>\n",
       "      <td>primary_podocyte</td>\n",
       "      <td>untreated</td>\n",
       "      <td>NaN</td>\n",
       "    </tr>\n",
       "    <tr>\n",
       "      <th>B11C</th>\n",
       "      <td>primary_podocyte</td>\n",
       "      <td>untreated</td>\n",
       "      <td>NaN</td>\n",
       "    </tr>\n",
       "    <tr>\n",
       "      <th>B11G</th>\n",
       "      <td>primary_podocyte</td>\n",
       "      <td>gfp_control</td>\n",
       "      <td>NaN</td>\n",
       "    </tr>\n",
       "    <tr>\n",
       "      <th>B11N</th>\n",
       "      <td>primary_podocyte</td>\n",
       "      <td>hiv_infection</td>\n",
       "      <td>NaN</td>\n",
       "    </tr>\n",
       "    <tr>\n",
       "      <th>B12G</th>\n",
       "      <td>primary_podocyte</td>\n",
       "      <td>gfp_control</td>\n",
       "      <td>NaN</td>\n",
       "    </tr>\n",
       "  </tbody>\n",
       "</table>\n",
       "</div>"
      ],
      "text/plain": [
       "                    cell_type      treatment  timepoint\n",
       "sample_name                                            \n",
       "B10C         primary_podocyte      untreated        NaN\n",
       "B11C         primary_podocyte      untreated        NaN\n",
       "B11G         primary_podocyte    gfp_control        NaN\n",
       "B11N         primary_podocyte  hiv_infection        NaN\n",
       "B12G         primary_podocyte    gfp_control        NaN"
      ]
     },
     "execution_count": 24,
     "metadata": {},
     "output_type": "execute_result"
    }
   ],
   "source": [
    "# Get input file\n",
    "infile = '../rawdata/hiv_sample_annotation.txt'\n",
    "\n",
    "# Read dataframe\n",
    "annotationDataframe = pd.read_table(infile).set_index('sample_name')\n",
    "annotationDataframe.head()"
   ]
  },
  {
   "cell_type": "markdown",
   "metadata": {},
   "source": [
    "#### Split Rawcount Dataframe"
   ]
  },
  {
   "cell_type": "code",
   "execution_count": 25,
   "metadata": {
    "collapsed": false
   },
   "outputs": [],
   "source": [
    "# Get Podocyte samples\n",
    "podocyteSamples = annotationDataframe.index[annotationDataframe['cell_type'] == 'primary_podocyte']\n",
    "podocyteRawcountDataframe = rawcountDataframe[podocyteSamples]\n",
    "\n",
    "# Get cell line samples\n",
    "cellLineSamples = annotationDataframe.index[annotationDataframe['cell_type'] == 'cell_line']\n",
    "cellLineRawcountDataframe = rawcountDataframe[cellLineSamples]"
   ]
  },
  {
   "cell_type": "markdown",
   "metadata": {},
   "source": [
    "## 2. Exploratory Data Analysis"
   ]
  },
  {
   "cell_type": "markdown",
   "metadata": {},
   "source": [
    "### 2.1 Library Sizes"
   ]
  },
  {
   "cell_type": "markdown",
   "metadata": {},
   "source": [
    "#### Calculate Library Sizes"
   ]
  },
  {
   "cell_type": "code",
   "execution_count": 29,
   "metadata": {
    "collapsed": false
   },
   "outputs": [
    {
     "data": {
      "text/plain": [
       "$podocyte\n",
       "    B10C     B11C     B11G     B11N     B12G     B12N      B1C      B1G \n",
       "34394237 36481316 36486558 24166981 36160060 20646442 34088425 36884080 \n",
       "     B1N      B2C      B2G      B2N      B3C      B3G      B3N      B8N \n",
       "33732760 35392753 34645759 33220643 34171208 36006572 29931472 21971167 \n",
       "     B9C      B9G      B9N      NK1      NK2 \n",
       "34718480 28857612 26324330 18142254 29331108 \n",
       "\n",
       "$cellLine\n",
       "    h0.2     h0.3     h0.4    h12.3    h12.4    h24.3    h24.4    h48.2 \n",
       "31644642 34982486 35059328 36401424 36323960 33844946 36142796 25424480 \n",
       "   h48.3    h48.4     h6.2     h6.3     h6.4 \n",
       "31300713 32191780 27290836 35665028 36504833 \n",
       "\n"
      ]
     },
     "metadata": {},
     "output_type": "display_data"
    }
   ],
   "source": [
    "%%R -i podocyteRawcountDataframe,cellLineRawcountDataframe,annotationDataframe\n",
    "\n",
    "# Create dataframe list\n",
    "rawcountData = list(podocyte=podocyteRawcountDataframe, cellLine=cellLineRawcountDataframe)\n",
    "\n",
    "# Calculate library sizes\n",
    "librarySizes = sapply(rawcountData, colSums)\n",
    "librarySizes"
   ]
  },
  {
   "cell_type": "markdown",
   "metadata": {},
   "source": [
    "#### Plot Sizes"
   ]
  },
  {
   "cell_type": "code",
   "execution_count": 37,
   "metadata": {
    "collapsed": false
   },
   "outputs": [
    {
     "data": {
      "image/png": "[encoded data removed]"
     },
     "metadata": {},
     "output_type": "display_data"
    }
   ],
   "source": [
    "%%R -h 500 -w 1000\n",
    "\n",
    "# Setup plot\n",
    "par(mfrow=c(1,2))\n",
    "\n",
    "# Loop through datasets\n",
    "for (label in names(rawcountData)) {\n",
    "    \n",
    "    # Plot\n",
    "    hist(librarySizes[[label]],\n",
    "         xlab = 'Library Size (nr. reads)',\n",
    "         main=label,\n",
    "         breaks=10)\n",
    "    \n",
    "}"
   ]
  },
  {
   "cell_type": "markdown",
   "metadata": {},
   "source": [
    "### 2.2 PCA Analysis"
   ]
  },
  {
   "cell_type": "code",
   "execution_count": null,
   "metadata": {
    "collapsed": true
   },
   "outputs": [],
   "source": [
    "%%R\n",
    "\n"
   ]
  }
 ],
 "metadata": {
  "kernelspec": {
   "display_name": "Python 2",
   "language": "python",
   "name": "python2"
  },
  "language_info": {
   "codemirror_mode": {
    "name": "ipython",
    "version": 2
   },
   "file_extension": ".py",
   "mimetype": "text/x-python",
   "name": "python",
   "nbconvert_exporter": "python",
   "pygments_lexer": "ipython2",
   "version": "2.7.10"
  }
 },
 "nbformat": 4,
 "nbformat_minor": 1
}
