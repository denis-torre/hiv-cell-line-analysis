{
 "cells": [
  {
   "cell_type": "code",
   "execution_count": 1,
   "metadata": {
    "collapsed": false
   },
   "outputs": [
    {
     "data": {
      "text/plain": [
       "R object with classes: ('list',) mapped to:\n",
       "<ListVector - Python:0x11691edd0 / R:0x7f9b920db060>\n",
       "[SignatureTranslatedFunc..., BoolVector]\n",
       "  value: <class 'rpy2.robjects.functions.SignatureTranslatedFunction'>\n",
       "  R object with classes: ('function',) mapped to:\n",
       "<SignatureTranslatedFunction - Python:0x11691bfc8 / R:0x7f9b8f324668>\n",
       "  visible: <class 'rpy2.robjects.vectors.BoolVector'>\n",
       "  R object with classes: ('logical',) mapped to:\n",
       "<BoolVector - Python:0x116928cf8 / R:0x7f9b8f18e328>\n",
       "[       0]"
      ]
     },
     "execution_count": 1,
     "metadata": {},
     "output_type": "execute_result"
    }
   ],
   "source": [
    "# Prepare\n",
    "import pandas as pd\n",
    "import os\n",
    "os.chdir('/Users/denis/Documents/Projects/hiv-analysis/hiv-signature-analysis')\n",
    "%load_ext rpy2.ipython\n",
    "%R source('/Users/denis/Documents/Projects/scripts/Support.R')"
   ]
  },
  {
   "cell_type": "markdown",
   "metadata": {},
   "source": [
    "## Infiles"
   ]
  },
  {
   "cell_type": "code",
   "execution_count": 5,
   "metadata": {
    "collapsed": false
   },
   "outputs": [],
   "source": [
    "infile = 'f2-normalized_expression_data.dir/podocyte_cell_line-vst.txt'"
   ]
  },
  {
   "cell_type": "markdown",
   "metadata": {},
   "source": [
    "## Computation"
   ]
  },
  {
   "cell_type": "code",
   "execution_count": 33,
   "metadata": {
    "collapsed": false
   },
   "outputs": [],
   "source": [
    "# Read data\n",
    "vstDataframe = pd.read_table(infile).set_index('gene_symbol')\n",
    "\n",
    "# Create annotation dataframe\n",
    "annotationDataframe = pd.DataFrame([[x, x.split('.')[0], x.split('.')[1]] for x in vstDataframe.columns], columns=['sample_id','timepoint','batch'])"
   ]
  },
  {
   "cell_type": "code",
   "execution_count": 35,
   "metadata": {
    "collapsed": false
   },
   "outputs": [
    {
     "data": {
      "text/plain": [
       "  sample_id timepoint batch\n",
       "0      h0.2        h0     2\n",
       "1      h0.3        h0     3\n",
       "2      h0.4        h0     4\n",
       "3     h12.3       h12     3\n",
       "4     h12.4       h12     4\n",
       "5     h24.3       h24     3\n"
      ]
     },
     "metadata": {},
     "output_type": "display_data"
    }
   ],
   "source": [
    "%%R -i vstDataframe,annotationDataframe\n",
    "head(annotationDataframe)"
   ]
  },
  {
   "cell_type": "code",
   "execution_count": 41,
   "metadata": {
    "collapsed": false
   },
   "outputs": [
    {
     "data": {
      "text/plain": [
       "Found 3 batches\n",
       "Adjusting for 4 covariate(s) or covariate level(s)\n",
       "Standardizing Data across genes\n",
       "Fitting L/S model and finding priors\n",
       "Finding parametric adjustments\n",
       "Adjusting the Data\n"
      ]
     },
     "metadata": {},
     "output_type": "display_data"
    }
   ],
   "source": [
    "%%R\n"
   ]
  },
  {
   "cell_type": "code",
   "execution_count": 42,
   "metadata": {
    "collapsed": false
   },
   "outputs": [
    {
     "data": {
      "text/plain": [
       "            h0.2     h0.3     h0.4    h12.3    h12.4    h24.3    h24.4    h48.2\n",
       "A1BG    6.147843 6.005296 5.897374 5.996267 5.885600 5.475812 5.659614 6.239405\n",
       "A1CF    6.264581 6.448386 6.214554 6.350930 6.250209 6.349119 6.052481 6.525110\n",
       "A2M     7.034336 7.088201 6.876766 6.670464 6.789030 6.725371 6.655692 6.657670\n",
       "A2M-AS1 5.626558 6.192881 6.163389 6.506272 5.819773 6.135803 6.210562 6.240294\n",
       "A2ML1   6.892532 6.788747 7.028152 6.835495 6.752410 7.244471 7.043618 6.995471\n",
       "A4GALT  9.353618 9.445485 9.791531 9.692090 9.751764 9.479550 9.564385 9.988112\n",
       "            h48.3    h48.4     h6.2     h6.3     h6.4\n",
       "A1BG     6.282005 6.023686 5.659350 5.901442 6.054677\n",
       "A1CF     6.108788 6.432085 6.223761 6.271659 6.591261\n",
       "A2M      6.521471 6.587131 6.728799 6.869803 6.941809\n",
       "A2M-AS1  5.761161 6.384660 5.923127 5.457303 5.588230\n",
       "A2ML1    6.719591 6.984454 6.917995 7.151627 6.950036\n",
       "A4GALT  10.082433 9.659197 9.870507 9.757342 9.684591\n"
      ]
     },
     "metadata": {},
     "output_type": "display_data"
    }
   ],
   "source": [
    "%%R\n",
    "head(vstDataframeCorrected)"
   ]
  },
  {
   "cell_type": "code",
   "execution_count": 11,
   "metadata": {
    "collapsed": false
   },
   "outputs": [
    {
     "data": {
      "text/plain": [
       "Found 5 batches\n",
       "Adjusting for 0 covariate(s) or covariate level(s)\n",
       "Standardizing Data across genes\n",
       "Fitting L/S model and finding priors\n",
       "Finding parametric adjustments\n",
       "Adjusting the Data\n"
      ]
     },
     "metadata": {},
     "output_type": "display_data"
    }
   ],
   "source": [
    "%%R\n",
    "# Load libraries\n",
    "library(sva)\n",
    "library(bladderbatch)\n",
    "\n",
    "# Load data\n",
    "data(bladderdata)\n",
    "pheno = pData(bladderEset)\n",
    "edata = exprs(bladderEset)\n",
    "\n",
    "# Create batch\n",
    "batch = pheno$batch\n",
    "modcombat = model.matrix(~1, data=pheno)\n",
    "\n",
    "# Run ComBat\n",
    "combat_edata = ComBat(dat=edata, batch=batch, mod=modcombat, par.prior=TRUE, prior.plots=FALSE)"
   ]
  },
  {
   "cell_type": "code",
   "execution_count": 27,
   "metadata": {
    "collapsed": false
   },
   "outputs": [
    {
     "data": {
      "text/plain": [
       "             sample outcome batch cancer\n",
       "GSM71019.CEL      1  Normal     3 Normal\n",
       "GSM71020.CEL      2  Normal     2 Normal\n",
       "GSM71021.CEL      3  Normal     2 Normal\n",
       "GSM71022.CEL      4  Normal     3 Normal\n",
       "GSM71023.CEL      5  Normal     3 Normal\n",
       "GSM71024.CEL      6  Normal     3 Normal\n"
      ]
     },
     "metadata": {},
     "output_type": "display_data"
    }
   ],
   "source": [
    "%%R\n",
    "head(pheno)"
   ]
  },
  {
   "cell_type": "code",
   "execution_count": 17,
   "metadata": {
    "collapsed": false
   },
   "outputs": [
    {
     "data": {
      "text/plain": [
       "            h0.2     h0.3     h0.4    h12.3    h12.4    h24.3    h24.4\n",
       "A1BG    5.503935 7.076264 5.241655 7.060819 5.235642 6.551762 5.018838\n",
       "A1CF    5.980715 6.498909 6.332309 6.396090 6.368596 6.399975 6.169393\n",
       "A2M     6.649431 7.374486 6.821825 6.959679 6.743027 7.012625 6.605288\n",
       "A2M-AS1 6.094726 5.404475 6.604511 5.722483 6.270075 5.333341 6.654487\n",
       "A2ML1   6.990537 6.655460 7.086898 6.719354 6.814397 7.134748 7.106763\n",
       "A4GALT  9.469511 9.438285 9.731087 9.682252 9.662753 9.470533 9.476727\n",
       "            h48.2     h48.3    h48.4      h6.2     h6.3     h6.4\n",
       "A1BG     5.569804  7.344000 5.366197  4.886763 6.966740 5.421723\n",
       "A1CF     6.307608  6.135498 6.552144  5.912574 6.309226 6.713958\n",
       "A2M      6.283479  6.811028 6.537748  6.290440 7.157131 6.898083\n",
       "A2M-AS1  6.872761  4.941792 6.825091  6.606226 4.645411 6.034259\n",
       "A2ML1    7.123133  6.577777 7.044083  6.991728 7.048220 7.012193\n",
       "A4GALT  10.190322 10.059985 9.538015 10.076268 9.746739 9.581477\n"
      ]
     },
     "metadata": {},
     "output_type": "display_data"
    }
   ],
   "source": [
    "%%R -i vstDataframe\n",
    "head(vstDataframe)"
   ]
  },
  {
   "cell_type": "code",
   "execution_count": 23,
   "metadata": {
    "collapsed": false
   },
   "outputs": [
    {
     "data": {
      "text/plain": [
       " h0.2  h0.3  h0.4 h12.3 h12.4 h24.3 h24.4 h48.2 h48.3 h48.4  h6.2  h6.3  h6.4 \n",
       "    2     3     4     3     4     3     4     2     3     4     2     3     4 \n"
      ]
     },
     "metadata": {},
     "output_type": "display_data"
    }
   ],
   "source": [
    "%%R\n",
    "# Get batch vector\n",
    "batch <- sapply(colnames(vstDataframe), function(x) as.numeric(strsplit(x, '.', fixed=TRUE)[[1]][2]))\n",
    "    \n",
    "# Get timepoint vector\n",
    "timepoint <- sapply(colnames(vstDataframe), function(x) strsplit(x, '.', fixed=TRUE)[[1]][1])\n",
    "batch"
   ]
  },
  {
   "cell_type": "code",
   "execution_count": 24,
   "metadata": {
    "collapsed": false
   },
   "outputs": [
    {
     "data": {
      "text/plain": [
       " h0.2  h0.3  h0.4 h12.3 h12.4 h24.3 h24.4 h48.2 h48.3 h48.4  h6.2  h6.3  h6.4 \n",
       " \"h0\"  \"h0\"  \"h0\" \"h12\" \"h12\" \"h24\" \"h24\" \"h48\" \"h48\" \"h48\"  \"h6\"  \"h6\"  \"h6\" \n"
      ]
     },
     "metadata": {},
     "output_type": "display_data"
    }
   ],
   "source": [
    "%%R\n",
    "model.matrix(timepoint)"
   ]
  },
  {
   "cell_type": "code",
   "execution_count": 20,
   "metadata": {
    "collapsed": false
   },
   "outputs": [
    {
     "data": {
      "text/plain": [
       "Found 3 batches\n",
       "Adjusting for 0 covariate(s) or covariate level(s)\n",
       "Standardizing Data across genes\n",
       "Fitting L/S model and finding priors\n",
       "Finding parametric adjustments\n",
       "Adjusting the Data\n"
      ]
     },
     "metadata": {},
     "output_type": "display_data"
    }
   ],
   "source": [
    "%%R\n",
    "vstDataframeCorrected <- ComBat(dat=vstDataframe, batch=batch, par.prior=TRUE, prior.plots=FALSE)"
   ]
  },
  {
   "cell_type": "code",
   "execution_count": 14,
   "metadata": {
    "collapsed": false
   },
   "outputs": [
    {
     "data": {
      "text/plain": [
       "          GSM71019.CEL GSM71020.CEL GSM71021.CEL GSM71022.CEL GSM71023.CEL\n",
       "1007_s_at    10.115170     8.628044     8.779235     9.248569    10.256841\n",
       "1053_at       5.345168     5.063598     5.113116     5.179410     5.181383\n",
       "117_at        6.348024     6.663625     6.465892     6.116422     5.980457\n",
       "121_at        8.901739     9.439977     9.540738     9.254368     8.798086\n",
       "1255_g_at     3.967672     4.466027     4.144885     4.189338     4.078509\n"
      ]
     },
     "metadata": {},
     "output_type": "display_data"
    }
   ],
   "source": [
    "%%R\n",
    "edata[1:5,1:5]"
   ]
  },
  {
   "cell_type": "code",
   "execution_count": 15,
   "metadata": {
    "collapsed": false
   },
   "outputs": [
    {
     "data": {
      "text/plain": [
       " [1] 3 2 2 3 3 3 2 2 5 2 5 2 5 2 5 5 2 1 5 1 2 1 2 5 2 2 5 1 1 2 1 1 1 5 1 2 2 2\n",
       "[39] 2 1 5 5 5 2 5 1 5 5 4 4 5 5 5 5 4 4 4\n"
      ]
     },
     "metadata": {},
     "output_type": "display_data"
    }
   ],
   "source": [
    "%%R\n",
    "batch"
   ]
  },
  {
   "cell_type": "code",
   "execution_count": 16,
   "metadata": {
    "collapsed": false
   },
   "outputs": [
    {
     "data": {
      "text/plain": [
       "   (Intercept)\n",
       "1            1\n",
       "2            1\n",
       "3            1\n",
       "4            1\n",
       "5            1\n",
       "6            1\n",
       "7            1\n",
       "8            1\n",
       "9            1\n",
       "10           1\n",
       "11           1\n",
       "12           1\n",
       "13           1\n",
       "14           1\n",
       "15           1\n",
       "16           1\n",
       "17           1\n",
       "18           1\n",
       "19           1\n",
       "20           1\n",
       "21           1\n",
       "22           1\n",
       "23           1\n",
       "24           1\n",
       "25           1\n",
       "26           1\n",
       "27           1\n",
       "28           1\n",
       "29           1\n",
       "30           1\n",
       "31           1\n",
       "32           1\n",
       "33           1\n",
       "34           1\n",
       "35           1\n",
       "36           1\n",
       "37           1\n",
       "38           1\n",
       "39           1\n",
       "40           1\n",
       "41           1\n",
       "42           1\n",
       "43           1\n",
       "44           1\n",
       "45           1\n",
       "46           1\n",
       "47           1\n",
       "48           1\n",
       "49           1\n",
       "50           1\n",
       "51           1\n",
       "52           1\n",
       "53           1\n",
       "54           1\n",
       "55           1\n",
       "56           1\n",
       "57           1\n",
       "attr(,\"assign\")\n",
       "[1] 0\n"
      ]
     },
     "metadata": {},
     "output_type": "display_data"
    }
   ],
   "source": [
    "%%R\n",
    "modcombat"
   ]
  },
  {
   "cell_type": "code",
   "execution_count": null,
   "metadata": {
    "collapsed": true
   },
   "outputs": [],
   "source": []
  }
 ],
 "metadata": {
  "kernelspec": {
   "display_name": "Python 2",
   "language": "python",
   "name": "python2"
  },
  "language_info": {
   "codemirror_mode": {
    "name": "ipython",
    "version": 2
   },
   "file_extension": ".py",
   "mimetype": "text/x-python",
   "name": "python",
   "nbconvert_exporter": "python",
   "pygments_lexer": "ipython2",
   "version": "2.7.10"
  }
 },
 "nbformat": 4,
 "nbformat_minor": 1
}
